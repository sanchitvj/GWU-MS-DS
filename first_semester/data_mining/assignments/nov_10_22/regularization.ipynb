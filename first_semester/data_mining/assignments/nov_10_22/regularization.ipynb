{
 "cells": [
  {
   "cell_type": "code",
   "execution_count": 1,
   "id": "7aed50b6-e90e-4ed1-9e15-eee5020abc1b",
   "metadata": {},
   "outputs": [],
   "source": [
    "import pandas as pd\n",
    "import numpy as np\n",
    "import matplotlib.pyplot as plt\n",
    "import seaborn as sns\n",
    "from pprint import pprint\n",
    "import warnings\n",
    "warnings.filterwarnings('ignore')\n",
    "from sklearn.model_selection import train_test_split\n",
    "from sklearn.preprocessing import StandardScaler\n",
    "from sklearn.linear_model import Lasso, Ridge, LassoCV, RidgeCV\n",
    "from sklearn.metrics import mean_squared_error\n",
    "import statsmodels.api as sm\n",
    "import statsmodels.formula.api as smf\n",
    "import statsmodels.stats.api as sms\n",
    "from sklearn.decomposition import PCA"
   ]
  },
  {
   "cell_type": "code",
   "execution_count": 2,
   "id": "74dbb33f-dcb3-4299-9631-14e70b49d7f5",
   "metadata": {},
   "outputs": [
    {
     "name": "stdout",
     "output_type": "stream",
     "text": [
      "Requirement already satisfied: cvxopt in /Users/sanchitvj/opt/anaconda3/lib/python3.9/site-packages (1.3.0)\n"
     ]
    }
   ],
   "source": [
    "!pip install cvxopt"
   ]
  },
  {
   "cell_type": "code",
   "execution_count": 3,
   "id": "43137338-9c47-45b8-9c93-53ae95928d50",
   "metadata": {},
   "outputs": [
    {
     "data": {
      "text/html": [
       "<div>\n",
       "<style scoped>\n",
       "    .dataframe tbody tr th:only-of-type {\n",
       "        vertical-align: middle;\n",
       "    }\n",
       "\n",
       "    .dataframe tbody tr th {\n",
       "        vertical-align: top;\n",
       "    }\n",
       "\n",
       "    .dataframe thead th {\n",
       "        text-align: right;\n",
       "    }\n",
       "</style>\n",
       "<table border=\"1\" class=\"dataframe\">\n",
       "  <thead>\n",
       "    <tr style=\"text-align: right;\">\n",
       "      <th></th>\n",
       "      <th>CRIM</th>\n",
       "      <th>ZN</th>\n",
       "      <th>INDUS</th>\n",
       "      <th>CHAS</th>\n",
       "      <th>NOX</th>\n",
       "      <th>RM</th>\n",
       "      <th>AGE</th>\n",
       "      <th>DIS</th>\n",
       "      <th>RAD</th>\n",
       "      <th>TAX</th>\n",
       "      <th>PTRATIO</th>\n",
       "      <th>B</th>\n",
       "      <th>LSTAT</th>\n",
       "      <th>MEDV</th>\n",
       "    </tr>\n",
       "  </thead>\n",
       "  <tbody>\n",
       "    <tr>\n",
       "      <th>0</th>\n",
       "      <td>0.00632</td>\n",
       "      <td>18.0</td>\n",
       "      <td>2.31</td>\n",
       "      <td>0.0</td>\n",
       "      <td>0.538</td>\n",
       "      <td>6.575</td>\n",
       "      <td>65.2</td>\n",
       "      <td>4.0900</td>\n",
       "      <td>1</td>\n",
       "      <td>296</td>\n",
       "      <td>15.3</td>\n",
       "      <td>396.90</td>\n",
       "      <td>4.98</td>\n",
       "      <td>24.0</td>\n",
       "    </tr>\n",
       "    <tr>\n",
       "      <th>1</th>\n",
       "      <td>0.02731</td>\n",
       "      <td>0.0</td>\n",
       "      <td>7.07</td>\n",
       "      <td>0.0</td>\n",
       "      <td>0.469</td>\n",
       "      <td>6.421</td>\n",
       "      <td>78.9</td>\n",
       "      <td>4.9671</td>\n",
       "      <td>2</td>\n",
       "      <td>242</td>\n",
       "      <td>17.8</td>\n",
       "      <td>396.90</td>\n",
       "      <td>9.14</td>\n",
       "      <td>21.6</td>\n",
       "    </tr>\n",
       "    <tr>\n",
       "      <th>2</th>\n",
       "      <td>0.02729</td>\n",
       "      <td>0.0</td>\n",
       "      <td>7.07</td>\n",
       "      <td>0.0</td>\n",
       "      <td>0.469</td>\n",
       "      <td>7.185</td>\n",
       "      <td>61.1</td>\n",
       "      <td>4.9671</td>\n",
       "      <td>2</td>\n",
       "      <td>242</td>\n",
       "      <td>17.8</td>\n",
       "      <td>392.83</td>\n",
       "      <td>4.03</td>\n",
       "      <td>34.7</td>\n",
       "    </tr>\n",
       "    <tr>\n",
       "      <th>3</th>\n",
       "      <td>0.03237</td>\n",
       "      <td>0.0</td>\n",
       "      <td>2.18</td>\n",
       "      <td>0.0</td>\n",
       "      <td>0.458</td>\n",
       "      <td>6.998</td>\n",
       "      <td>45.8</td>\n",
       "      <td>6.0622</td>\n",
       "      <td>3</td>\n",
       "      <td>222</td>\n",
       "      <td>18.7</td>\n",
       "      <td>394.63</td>\n",
       "      <td>2.94</td>\n",
       "      <td>33.4</td>\n",
       "    </tr>\n",
       "    <tr>\n",
       "      <th>4</th>\n",
       "      <td>0.06905</td>\n",
       "      <td>0.0</td>\n",
       "      <td>2.18</td>\n",
       "      <td>0.0</td>\n",
       "      <td>0.458</td>\n",
       "      <td>7.147</td>\n",
       "      <td>54.2</td>\n",
       "      <td>6.0622</td>\n",
       "      <td>3</td>\n",
       "      <td>222</td>\n",
       "      <td>18.7</td>\n",
       "      <td>396.90</td>\n",
       "      <td>NaN</td>\n",
       "      <td>36.2</td>\n",
       "    </tr>\n",
       "    <tr>\n",
       "      <th>...</th>\n",
       "      <td>...</td>\n",
       "      <td>...</td>\n",
       "      <td>...</td>\n",
       "      <td>...</td>\n",
       "      <td>...</td>\n",
       "      <td>...</td>\n",
       "      <td>...</td>\n",
       "      <td>...</td>\n",
       "      <td>...</td>\n",
       "      <td>...</td>\n",
       "      <td>...</td>\n",
       "      <td>...</td>\n",
       "      <td>...</td>\n",
       "      <td>...</td>\n",
       "    </tr>\n",
       "    <tr>\n",
       "      <th>501</th>\n",
       "      <td>0.06263</td>\n",
       "      <td>0.0</td>\n",
       "      <td>11.93</td>\n",
       "      <td>0.0</td>\n",
       "      <td>0.573</td>\n",
       "      <td>6.593</td>\n",
       "      <td>69.1</td>\n",
       "      <td>2.4786</td>\n",
       "      <td>1</td>\n",
       "      <td>273</td>\n",
       "      <td>21.0</td>\n",
       "      <td>391.99</td>\n",
       "      <td>NaN</td>\n",
       "      <td>22.4</td>\n",
       "    </tr>\n",
       "    <tr>\n",
       "      <th>502</th>\n",
       "      <td>0.04527</td>\n",
       "      <td>0.0</td>\n",
       "      <td>11.93</td>\n",
       "      <td>0.0</td>\n",
       "      <td>0.573</td>\n",
       "      <td>6.120</td>\n",
       "      <td>76.7</td>\n",
       "      <td>2.2875</td>\n",
       "      <td>1</td>\n",
       "      <td>273</td>\n",
       "      <td>21.0</td>\n",
       "      <td>396.90</td>\n",
       "      <td>9.08</td>\n",
       "      <td>20.6</td>\n",
       "    </tr>\n",
       "    <tr>\n",
       "      <th>503</th>\n",
       "      <td>0.06076</td>\n",
       "      <td>0.0</td>\n",
       "      <td>11.93</td>\n",
       "      <td>0.0</td>\n",
       "      <td>0.573</td>\n",
       "      <td>6.976</td>\n",
       "      <td>91.0</td>\n",
       "      <td>2.1675</td>\n",
       "      <td>1</td>\n",
       "      <td>273</td>\n",
       "      <td>21.0</td>\n",
       "      <td>396.90</td>\n",
       "      <td>5.64</td>\n",
       "      <td>23.9</td>\n",
       "    </tr>\n",
       "    <tr>\n",
       "      <th>504</th>\n",
       "      <td>0.10959</td>\n",
       "      <td>0.0</td>\n",
       "      <td>11.93</td>\n",
       "      <td>0.0</td>\n",
       "      <td>0.573</td>\n",
       "      <td>6.794</td>\n",
       "      <td>89.3</td>\n",
       "      <td>2.3889</td>\n",
       "      <td>1</td>\n",
       "      <td>273</td>\n",
       "      <td>21.0</td>\n",
       "      <td>393.45</td>\n",
       "      <td>6.48</td>\n",
       "      <td>22.0</td>\n",
       "    </tr>\n",
       "    <tr>\n",
       "      <th>505</th>\n",
       "      <td>0.04741</td>\n",
       "      <td>0.0</td>\n",
       "      <td>11.93</td>\n",
       "      <td>0.0</td>\n",
       "      <td>0.573</td>\n",
       "      <td>6.030</td>\n",
       "      <td>NaN</td>\n",
       "      <td>2.5050</td>\n",
       "      <td>1</td>\n",
       "      <td>273</td>\n",
       "      <td>21.0</td>\n",
       "      <td>396.90</td>\n",
       "      <td>7.88</td>\n",
       "      <td>11.9</td>\n",
       "    </tr>\n",
       "  </tbody>\n",
       "</table>\n",
       "<p>506 rows × 14 columns</p>\n",
       "</div>"
      ],
      "text/plain": [
       "        CRIM    ZN  INDUS  CHAS    NOX     RM   AGE     DIS  RAD  TAX  \\\n",
       "0    0.00632  18.0   2.31   0.0  0.538  6.575  65.2  4.0900    1  296   \n",
       "1    0.02731   0.0   7.07   0.0  0.469  6.421  78.9  4.9671    2  242   \n",
       "2    0.02729   0.0   7.07   0.0  0.469  7.185  61.1  4.9671    2  242   \n",
       "3    0.03237   0.0   2.18   0.0  0.458  6.998  45.8  6.0622    3  222   \n",
       "4    0.06905   0.0   2.18   0.0  0.458  7.147  54.2  6.0622    3  222   \n",
       "..       ...   ...    ...   ...    ...    ...   ...     ...  ...  ...   \n",
       "501  0.06263   0.0  11.93   0.0  0.573  6.593  69.1  2.4786    1  273   \n",
       "502  0.04527   0.0  11.93   0.0  0.573  6.120  76.7  2.2875    1  273   \n",
       "503  0.06076   0.0  11.93   0.0  0.573  6.976  91.0  2.1675    1  273   \n",
       "504  0.10959   0.0  11.93   0.0  0.573  6.794  89.3  2.3889    1  273   \n",
       "505  0.04741   0.0  11.93   0.0  0.573  6.030   NaN  2.5050    1  273   \n",
       "\n",
       "     PTRATIO       B  LSTAT  MEDV  \n",
       "0       15.3  396.90   4.98  24.0  \n",
       "1       17.8  396.90   9.14  21.6  \n",
       "2       17.8  392.83   4.03  34.7  \n",
       "3       18.7  394.63   2.94  33.4  \n",
       "4       18.7  396.90    NaN  36.2  \n",
       "..       ...     ...    ...   ...  \n",
       "501     21.0  391.99    NaN  22.4  \n",
       "502     21.0  396.90   9.08  20.6  \n",
       "503     21.0  396.90   5.64  23.9  \n",
       "504     21.0  393.45   6.48  22.0  \n",
       "505     21.0  396.90   7.88  11.9  \n",
       "\n",
       "[506 rows x 14 columns]"
      ]
     },
     "execution_count": 3,
     "metadata": {},
     "output_type": "execute_result"
    }
   ],
   "source": [
    "df = pd.read_csv(\"HousingData.csv\")\n",
    "df"
   ]
  },
  {
   "cell_type": "code",
   "execution_count": 4,
   "id": "4fecbafe-6d7a-4358-9dc3-627de2619d32",
   "metadata": {},
   "outputs": [
    {
     "data": {
      "text/plain": [
       "CRIM       20\n",
       "ZN         20\n",
       "INDUS      20\n",
       "CHAS       20\n",
       "NOX         0\n",
       "RM          0\n",
       "AGE        20\n",
       "DIS         0\n",
       "RAD         0\n",
       "TAX         0\n",
       "PTRATIO     0\n",
       "B           0\n",
       "LSTAT      20\n",
       "MEDV        0\n",
       "dtype: int64"
      ]
     },
     "execution_count": 4,
     "metadata": {},
     "output_type": "execute_result"
    }
   ],
   "source": [
    "df.isnull().sum()"
   ]
  },
  {
   "cell_type": "code",
   "execution_count": 5,
   "id": "ff93ccf1-35d9-41ab-b698-274afa0d797b",
   "metadata": {},
   "outputs": [
    {
     "data": {
      "text/plain": [
       "CRIM       0\n",
       "ZN         0\n",
       "INDUS      0\n",
       "CHAS       0\n",
       "NOX        0\n",
       "RM         0\n",
       "AGE        0\n",
       "DIS        0\n",
       "RAD        0\n",
       "TAX        0\n",
       "PTRATIO    0\n",
       "B          0\n",
       "LSTAT      0\n",
       "MEDV       0\n",
       "dtype: int64"
      ]
     },
     "execution_count": 5,
     "metadata": {},
     "output_type": "execute_result"
    }
   ],
   "source": [
    "df = df.dropna()\n",
    "df.isnull().sum()"
   ]
  },
  {
   "cell_type": "markdown",
   "id": "e8e9566a-2f9d-4e46-9055-70f5284d581b",
   "metadata": {},
   "source": [
    "### Splitting data set"
   ]
  },
  {
   "cell_type": "code",
   "execution_count": 6,
   "id": "f2366950-69cc-47a8-bf62-73f5bda2fffd",
   "metadata": {},
   "outputs": [],
   "source": [
    "X = df.drop([\"MEDV\"], axis=1)\n",
    "Y = df[\"MEDV\"]\n",
    "\n",
    "x_train, x_test, y_train, y_test = train_test_split(X, Y, test_size=0.2, random_state=777)"
   ]
  },
  {
   "cell_type": "code",
   "execution_count": 7,
   "id": "26885dc8-ca4a-4b0f-9705-502d3f7d53b0",
   "metadata": {},
   "outputs": [
    {
     "data": {
      "text/plain": [
       "Index(['CRIM', 'ZN', 'INDUS', 'NOX', 'RM', 'AGE', 'DIS', 'RAD', 'TAX',\n",
       "       'PTRATIO', 'B', 'LSTAT'],\n",
       "      dtype='object')"
      ]
     },
     "execution_count": 7,
     "metadata": {},
     "output_type": "execute_result"
    }
   ],
   "source": [
    "x_num = x_train.drop([\"CHAS\"], axis=1)\n",
    "num_col = x_num.columns\n",
    "num_col"
   ]
  },
  {
   "cell_type": "markdown",
   "id": "bb04af79-03b8-4863-817e-492b2249c85d",
   "metadata": {},
   "source": [
    "### Feature Scaling"
   ]
  },
  {
   "cell_type": "code",
   "execution_count": 8,
   "id": "e0872740-f6b3-40a0-b344-2862bb554d68",
   "metadata": {},
   "outputs": [],
   "source": [
    "scaler = StandardScaler()\n",
    "# x_train[num_col] = x_train.drop([\"CHAS\"], axis=1)\n",
    "x_train[num_col] = scaler.fit_transform(x_train[num_col])\n",
    "x_test[num_col] = scaler.transform(x_test[num_col])"
   ]
  },
  {
   "cell_type": "code",
   "execution_count": 9,
   "id": "04fbd350-a77c-428d-9602-e728bc147865",
   "metadata": {},
   "outputs": [],
   "source": [
    "tr_dummies = pd.get_dummies(x_train[\"CHAS\"], prefix=\"CHAS\")\n",
    "ts_dummies = pd.get_dummies(x_test[\"CHAS\"], prefix=\"CHASE\")"
   ]
  },
  {
   "cell_type": "code",
   "execution_count": 10,
   "id": "11ad8b77-5671-43e8-94ce-f448f3a96a53",
   "metadata": {},
   "outputs": [],
   "source": [
    "x_train = x_train.drop([\"CHAS\"], axis=1)\n",
    "x_test = x_test.drop([\"CHAS\"], axis=1)"
   ]
  },
  {
   "cell_type": "code",
   "execution_count": 11,
   "id": "992f27fb-fa40-4244-a7ba-87745959cae3",
   "metadata": {},
   "outputs": [],
   "source": [
    "x_train = pd.concat([x_train, tr_dummies], axis=1)\n",
    "x_test = pd.concat([x_test, ts_dummies], axis=1)"
   ]
  },
  {
   "cell_type": "markdown",
   "id": "207f1cf6-c329-4249-8d71-cfc781be3572",
   "metadata": {},
   "source": [
    "### Lasso cross validation"
   ]
  },
  {
   "cell_type": "code",
   "execution_count": 12,
   "id": "e8f91ed5-16bf-4bfd-acfb-01f3744e2c91",
   "metadata": {},
   "outputs": [
    {
     "data": {
      "text/plain": [
       "0.011089082961135479"
      ]
     },
     "execution_count": 12,
     "metadata": {},
     "output_type": "execute_result"
    }
   ],
   "source": [
    "lasso_model = LassoCV(cv=10, random_state=777, max_iter=10000)\n",
    "lasso_model.fit(x_train, y_train)\n",
    "lasso_model.alpha_"
   ]
  },
  {
   "cell_type": "code",
   "execution_count": 13,
   "id": "896ad94a-50fa-4bf5-b74f-64b5628433b4",
   "metadata": {},
   "outputs": [
    {
     "data": {
      "text/plain": [
       "Lasso(alpha=0.011089082961135479)"
      ]
     },
     "execution_count": 13,
     "metadata": {},
     "output_type": "execute_result"
    }
   ],
   "source": [
    "lasso_best = Lasso(alpha=lasso_model.alpha_)\n",
    "lasso_best.fit(x_train, y_train)"
   ]
  },
  {
   "cell_type": "code",
   "execution_count": 14,
   "id": "aa6b980d-dd72-47fe-8e3a-04d443d97a04",
   "metadata": {},
   "outputs": [
    {
     "name": "stdout",
     "output_type": "stream",
     "text": [
      "[(-0.7632918583807559, 'CRIM'),\n",
      " (1.4210582252371402, 'ZN'),\n",
      " (0.06806018124397856, 'INDUS'),\n",
      " (-1.74823976110032, 'CHAS'),\n",
      " (2.1683441123852703, 'NOX'),\n",
      " (-0.6646626884534463, 'RM'),\n",
      " (-2.813232745076073, 'AGE'),\n",
      " (2.198410869807082, 'DIS'),\n",
      " (-2.0837370901082823, 'RAD'),\n",
      " (-1.4839819494658661, 'TAX'),\n",
      " (0.7955840281393455, 'PTRATIO'),\n",
      " (-3.0950170348223827, 'B'),\n",
      " (-3.285734058090429, 'LSTAT'),\n",
      " (8.539922789180402e-15, 'MEDV')]\n"
     ]
    }
   ],
   "source": [
    "pprint(list(zip(lasso_best.coef_, df)))"
   ]
  },
  {
   "cell_type": "markdown",
   "id": "9ebd0a54-afb5-4bad-93bb-f37d78b9d350",
   "metadata": {},
   "source": [
    "### Ridge cross validation"
   ]
  },
  {
   "cell_type": "code",
   "execution_count": 15,
   "id": "92aff78c-d3d5-43e0-ae82-4dad1c154f62",
   "metadata": {},
   "outputs": [
    {
     "data": {
      "text/plain": [
       "RidgeCV(alphas=array([1.00000000e-02, 5.06040404e+00, 1.01108081e+01, 1.51612121e+01,\n",
       "       2.02116162e+01, 2.52620202e+01, 3.03124242e+01, 3.53628283e+01,\n",
       "       4.04132323e+01, 4.54636364e+01, 5.05140404e+01, 5.55644444e+01,\n",
       "       6.06148485e+01, 6.56652525e+01, 7.07156566e+01, 7.57660606e+01,\n",
       "       8.08164646e+01, 8.58668687e+01, 9.09172727e+01, 9.59676768e+01,\n",
       "       1.01018081e+02, 1.06068485e+0...\n",
       "       3.83840707e+02, 3.88891111e+02, 3.93941515e+02, 3.98991919e+02,\n",
       "       4.04042323e+02, 4.09092727e+02, 4.14143131e+02, 4.19193535e+02,\n",
       "       4.24243939e+02, 4.29294343e+02, 4.34344747e+02, 4.39395152e+02,\n",
       "       4.44445556e+02, 4.49495960e+02, 4.54546364e+02, 4.59596768e+02,\n",
       "       4.64647172e+02, 4.69697576e+02, 4.74747980e+02, 4.79798384e+02,\n",
       "       4.84848788e+02, 4.89899192e+02, 4.94949596e+02, 5.00000000e+02]),\n",
       "        store_cv_values=True)"
      ]
     },
     "execution_count": 15,
     "metadata": {},
     "output_type": "execute_result"
    }
   ],
   "source": [
    "alpha_range = np.linspace(0.01,500,100)\n",
    "ridge_model = RidgeCV(alphas=alpha_range, store_cv_values=True, scoring=None)\n",
    "ridge_model.fit(x_train, y_train)"
   ]
  },
  {
   "cell_type": "code",
   "execution_count": 16,
   "id": "9f484a76-dd75-4105-8343-7cc64432e99b",
   "metadata": {},
   "outputs": [
    {
     "data": {
      "text/plain": [
       "5.06040404040404"
      ]
     },
     "execution_count": 16,
     "metadata": {},
     "output_type": "execute_result"
    }
   ],
   "source": [
    "ridge_model.alpha_"
   ]
  },
  {
   "cell_type": "code",
   "execution_count": 17,
   "id": "f5004377-12e3-4d4c-bc64-18508cdd7aa6",
   "metadata": {},
   "outputs": [
    {
     "data": {
      "text/plain": [
       "Ridge(alpha=5.06040404040404)"
      ]
     },
     "execution_count": 17,
     "metadata": {},
     "output_type": "execute_result"
    }
   ],
   "source": [
    "ridge_best = Ridge(alpha=ridge_model.alpha_)\n",
    "ridge_best.fit(x_train, y_train)"
   ]
  },
  {
   "cell_type": "code",
   "execution_count": 18,
   "id": "ff757b72-ac81-4af9-ad50-ba7530a2edb0",
   "metadata": {},
   "outputs": [
    {
     "name": "stdout",
     "output_type": "stream",
     "text": [
      "[(-0.7438746059484319, 'CRIM'),\n",
      " (1.3515361602056146, 'ZN'),\n",
      " (0.017795435557295555, 'INDUS'),\n",
      " (-1.6369567812058434, 'CHAS'),\n",
      " (2.2090120683788457, 'NOX'),\n",
      " (-0.6873571280749277, 'RM'),\n",
      " (-2.6633913871943315, 'AGE'),\n",
      " (1.9650094571493235, 'DIS'),\n",
      " (-1.8635964455630922, 'RAD'),\n",
      " (-1.481637223270767, 'TAX'),\n",
      " (0.808834463250526, 'PTRATIO'),\n",
      " (-3.01652840620812, 'B'),\n",
      " (-1.5724197509738789, 'LSTAT'),\n",
      " (1.5724197509738709, 'MEDV')]\n"
     ]
    }
   ],
   "source": [
    "pprint(list(zip(ridge_best.coef_, df)))"
   ]
  },
  {
   "cell_type": "markdown",
   "id": "c9cac0c3-6ec5-4f2a-9517-059990baa6fe",
   "metadata": {},
   "source": [
    "### Comparing Lasso and Ridge"
   ]
  },
  {
   "cell_type": "code",
   "execution_count": 19,
   "id": "21480959-24c5-43dd-884e-a6b71d169f6a",
   "metadata": {},
   "outputs": [
    {
     "name": "stdout",
     "output_type": "stream",
     "text": [
      "Ridge mean_squared_error :  32.37762705631108\n",
      "Lasso mean_squared_error :  32.04622105590019\n"
     ]
    }
   ],
   "source": [
    "y_pred = ridge_best.predict(x_test)\n",
    "print (\"Ridge mean_squared_error : \", mean_squared_error(y_test, y_pred))\n",
    "\n",
    "y_pred = lasso_best.predict(x_test)\n",
    "print (\"Lasso mean_squared_error : \", mean_squared_error(y_test, y_pred))"
   ]
  },
  {
   "cell_type": "markdown",
   "id": "c7ea9607-816c-457f-95cd-918488610baf",
   "metadata": {},
   "source": [
    "### Linear Regression using only categorical variable"
   ]
  },
  {
   "cell_type": "code",
   "execution_count": 20,
   "id": "81635df0-a736-45b5-ac52-b986c3832dfa",
   "metadata": {},
   "outputs": [],
   "source": [
    "x = df[\"CHAS\"]\n",
    "y = df[\"MEDV\"]\n",
    "x = sm.add_constant(x)\n",
    "x_train_, x_test_, y_train_, y_test_ = train_test_split(x, y, test_size=0.2, random_state=777)"
   ]
  },
  {
   "cell_type": "code",
   "execution_count": 21,
   "id": "aabee6f1-09cc-4cb2-8b19-a329ae49ede9",
   "metadata": {},
   "outputs": [],
   "source": [
    "# from statsmodels.regression.linear_model import OLS\n",
    "\n",
    "\n",
    "data_train = pd.concat([x_train_, y_train_], axis=1)\n",
    "\n",
    "model_reg = sm.OLS(y_train_, x_train_[\"CHAS\"])\n",
    "model_fit_lasso = model_reg.fit_regularized(method=\"sqrt_lasso\", L1_wt=1)\n",
    "# model_fit_lasso.summary()"
   ]
  },
  {
   "cell_type": "code",
   "execution_count": 22,
   "id": "8037fd26-397e-4e79-b300-0cc5214ddeb7",
   "metadata": {},
   "outputs": [],
   "source": [
    "# res = model_fit_.resid\n",
    "# fig = sm.qqplot(res, line='s')\n",
    "# plt.show()"
   ]
  },
  {
   "cell_type": "code",
   "execution_count": 23,
   "id": "07b4ba10-e285-4aa4-ba49-10a579d29e62",
   "metadata": {},
   "outputs": [
    {
     "data": {
      "text/plain": [
       "709.0517555352278"
      ]
     },
     "execution_count": 23,
     "metadata": {},
     "output_type": "execute_result"
    }
   ],
   "source": [
    "y_test_pred = model_fit_lasso.predict(x_test_[\"CHAS\"])\n",
    "sq = (y_test_pred-y_test_)**2 \n",
    "lasso_model_err = sq.mean()\n",
    "lasso_model_err"
   ]
  },
  {
   "cell_type": "code",
   "execution_count": 24,
   "id": "911f1c33-ecea-451f-b1d8-aa41a10c6aa2",
   "metadata": {},
   "outputs": [
    {
     "data": {
      "text/plain": [
       "709.0517555352278"
      ]
     },
     "execution_count": 24,
     "metadata": {},
     "output_type": "execute_result"
    }
   ],
   "source": [
    "model_fit_ridge = model_reg.fit_regularized(method=\"sqrt_lasso\", L1_wt=0)\n",
    "\n",
    "y_test_pred = model_fit_ridge.predict(x_test_[\"CHAS\"])\n",
    "sq = (y_test_pred-y_test_)**2 \n",
    "ridge_model_err = sq.mean()\n",
    "ridge_model_err"
   ]
  },
  {
   "cell_type": "markdown",
   "id": "04bdbfa5-24f7-401e-86e6-8d4ca09839e1",
   "metadata": {},
   "source": [
    "# Part 2"
   ]
  },
  {
   "cell_type": "markdown",
   "id": "52806006-fc58-47ac-a519-3f631766b3ad",
   "metadata": {},
   "source": [
    "### PCA"
   ]
  },
  {
   "cell_type": "code",
   "execution_count": 25,
   "id": "1c02ff57-e36c-4902-8555-c0594bbe8872",
   "metadata": {},
   "outputs": [
    {
     "name": "stdout",
     "output_type": "stream",
     "text": [
      "Explained Variance: [0.5179391  0.11401607 0.09246064 0.06463751 0.05415146 0.04587399\n",
      " 0.03304881 0.02437989 0.01781031 0.01607095 0.01383765 0.00577361]\n",
      "Cumulative Explained Variance: [0.5179391  0.63195518 0.72441581 0.78905332 0.84320478 0.88907878\n",
      " 0.92212759 0.94650747 0.96431779 0.98038873 0.99422639 1.        ]\n"
     ]
    }
   ],
   "source": [
    "pca = PCA()\n",
    "pca_fit = pca.fit(x_train[num_col])\n",
    "print(\"Explained Variance: %s\" % pca_fit.explained_variance_ratio_)\n",
    "cum_sum_eigenvalues = np.cumsum(pca_fit.explained_variance_ratio_)\n",
    "print(\"Cumulative Explained Variance: %s\" % cum_sum_eigenvalues)"
   ]
  },
  {
   "cell_type": "code",
   "execution_count": 26,
   "id": "e63952a6-8525-452f-9fa6-611b2bcaaf0f",
   "metadata": {},
   "outputs": [],
   "source": [
    "out_feats = pca_fit.transform(x_train[num_col])"
   ]
  },
  {
   "cell_type": "code",
   "execution_count": 27,
   "id": "8839c2cc-f35e-44e5-8ded-6c98a65c9de3",
   "metadata": {},
   "outputs": [
    {
     "data": {
      "image/png": "[encoded data removed]",
      "text/plain": [
       "<Figure size 432x288 with 1 Axes>"
      ]
     },
     "metadata": {
      "needs_background": "light"
     },
     "output_type": "display_data"
    }
   ],
   "source": [
    "plt.plot(pca_fit.explained_variance_ratio_.cumsum(), lw=3, color='#087E8B')\n",
    "plt.title('Cumulative explained variance by number of principal components', size=20)\n",
    "plt.show()"
   ]
  },
  {
   "cell_type": "code",
   "execution_count": 28,
   "id": "0e59f083-8efb-48f4-bfe3-589fa0650bf0",
   "metadata": {},
   "outputs": [
    {
     "data": {
      "text/plain": [
       "12"
      ]
     },
     "execution_count": 28,
     "metadata": {},
     "output_type": "execute_result"
    }
   ],
   "source": [
    "pca_fit.n_components_"
   ]
  },
  {
   "cell_type": "markdown",
   "id": "f7d6a37e-dc72-43f0-9c48-3460dbfc75a5",
   "metadata": {},
   "source": [
    "Best number of features selected is 12"
   ]
  },
  {
   "cell_type": "markdown",
   "id": "85934632-2e22-44bf-87d0-164e8c425e66",
   "metadata": {},
   "source": [
    "### Feature Importance using trees and forest"
   ]
  },
  {
   "cell_type": "code",
   "execution_count": 29,
   "id": "848879f4-8184-4e98-acdb-10305026b2c9",
   "metadata": {},
   "outputs": [
    {
     "data": {
      "text/plain": [
       "DecisionTreeRegressor(random_state=0)"
      ]
     },
     "execution_count": 29,
     "metadata": {},
     "output_type": "execute_result"
    }
   ],
   "source": [
    "from sklearn.tree import DecisionTreeRegressor\n",
    "dt_regressor = DecisionTreeRegressor(random_state=0)\n",
    "dt_regressor.fit(x_train, y_train)"
   ]
  },
  {
   "cell_type": "code",
   "execution_count": 30,
   "id": "a154e495-5fd2-44b2-bbc4-f8040dc52ae7",
   "metadata": {},
   "outputs": [],
   "source": [
    "y_pred = dt_regressor.predict(x_test)"
   ]
  },
  {
   "cell_type": "code",
   "execution_count": 31,
   "id": "483d5127-715a-413f-8925-9902a6dcfcb8",
   "metadata": {},
   "outputs": [
    {
     "name": "stdout",
     "output_type": "stream",
     "text": [
      "(0, 'CRIM', 0.0378413411435971)\n",
      "(1, 'ZN', 0.0013385180785423073)\n",
      "(2, 'INDUS', 0.010526799001100954)\n",
      "(3, 'NOX', 0.011483144176596469)\n",
      "(4, 'RM', 0.49999155551724717)\n",
      "(5, 'AGE', 0.016909433063036414)\n",
      "(6, 'DIS', 0.0446349282305829)\n",
      "(7, 'RAD', 0.0031938965852601874)\n",
      "(8, 'TAX', 0.0025680729092943636)\n",
      "(9, 'PTRATIO', 0.02260226332626037)\n",
      "(10, 'B', 0.020058276449136415)\n",
      "(11, 'LSTAT', 0.3270072993892283)\n",
      "(12, 'CHAS_0.0', 2.741261647502697e-05)\n",
      "(13, 'CHAS_1.0', 0.001817059513642093)\n"
     ]
    },
    {
     "data": {
      "image/png": "[encoded data removed]",
      "text/plain": [
       "<Figure size 432x288 with 1 Axes>"
      ]
     },
     "metadata": {
      "needs_background": "light"
     },
     "output_type": "display_data"
    }
   ],
   "source": [
    "importance = dt_regressor.feature_importances_\n",
    "for i,v in enumerate(importance):\n",
    "    print( (i,x_train.columns[i],v))\n",
    "plt.bar([x for x in range(len(importance))], importance)\n",
    "plt.show()"
   ]
  },
  {
   "cell_type": "code",
   "execution_count": 32,
   "id": "8b23912e-e05a-405b-ac6e-2f56981705b5",
   "metadata": {},
   "outputs": [
    {
     "name": "stdout",
     "output_type": "stream",
     "text": [
      "Mean Absolute Error: 3.2569620253164557\n",
      "Mean Squared Error: 20.96569620253165\n",
      "Root Mean Squared Error: 4.578831314050743\n"
     ]
    }
   ],
   "source": [
    "from sklearn import metrics\n",
    "\n",
    "print('Mean Absolute Error:', metrics.mean_absolute_error(y_test, y_pred))\n",
    "print('Mean Squared Error:', metrics.mean_squared_error(y_test, y_pred))\n",
    "print('Root Mean Squared Error:', np.sqrt(metrics.mean_squared_error(y_test, y_pred)))"
   ]
  },
  {
   "cell_type": "code",
   "execution_count": 33,
   "id": "2c3fcad9-47ac-407a-b471-b9efa4e32ef5",
   "metadata": {},
   "outputs": [],
   "source": [
    "from sklearn.ensemble import RandomForestRegressor"
   ]
  },
  {
   "cell_type": "code",
   "execution_count": 34,
   "id": "da17be42-3f9e-451f-8b86-5b9bf8dbbdd7",
   "metadata": {},
   "outputs": [],
   "source": [
    "rf_regressor = RandomForestRegressor(n_estimators=20, random_state=0)\n",
    "rf_regressor.fit(x_train, y_train)\n",
    "y_pred = rf_regressor.predict(x_test)"
   ]
  },
  {
   "cell_type": "code",
   "execution_count": 35,
   "id": "aa564121-2e25-419a-adc5-ba4baf8ec47c",
   "metadata": {},
   "outputs": [
    {
     "name": "stdout",
     "output_type": "stream",
     "text": [
      "(0, 'CRIM', 0.04349740476328862)\n",
      "(1, 'ZN', 0.0009103405058610075)\n",
      "(2, 'INDUS', 0.009725625253353644)\n",
      "(3, 'NOX', 0.011392826792310205)\n",
      "(4, 'RM', 0.43005394210779624)\n",
      "(5, 'AGE', 0.01641935302355077)\n",
      "(6, 'DIS', 0.04481899580541774)\n",
      "(7, 'RAD', 0.0024888680699278283)\n",
      "(8, 'TAX', 0.010693986782290598)\n",
      "(9, 'PTRATIO', 0.010900498585184503)\n",
      "(10, 'B', 0.014603306351198823)\n",
      "(11, 'LSTAT', 0.40291389506934633)\n",
      "(12, 'CHAS_0.0', 0.0004941813666913487)\n",
      "(13, 'CHAS_1.0', 0.0010867755237825368)\n"
     ]
    },
    {
     "data": {
      "image/png": "[encoded data removed]",
      "text/plain": [
       "<Figure size 432x288 with 1 Axes>"
      ]
     },
     "metadata": {
      "needs_background": "light"
     },
     "output_type": "display_data"
    }
   ],
   "source": [
    "importance = rf_regressor.feature_importances_\n",
    "for i,v in enumerate(importance):\n",
    "    print( (i,x_train.columns[i],v))\n",
    "plt.bar([x for x in range(len(importance))], importance)\n",
    "plt.show()"
   ]
  },
  {
   "cell_type": "code",
   "execution_count": 36,
   "id": "9fcf96e5-a688-49b2-8dbd-982e1d84f7ff",
   "metadata": {},
   "outputs": [
    {
     "name": "stdout",
     "output_type": "stream",
     "text": [
      "Mean Absolute Error: 2.5567721518987336\n",
      "Mean Squared Error: 14.92246044303797\n",
      "Root Mean Squared Error: 3.8629600623146456\n"
     ]
    }
   ],
   "source": [
    "print('Mean Absolute Error:', metrics.mean_absolute_error(y_test, y_pred))\n",
    "print('Mean Squared Error:', metrics.mean_squared_error(y_test, y_pred))\n",
    "print('Root Mean Squared Error:', np.sqrt(metrics.mean_squared_error(y_test, y_pred)))"
   ]
  },
  {
   "cell_type": "markdown",
   "id": "e0822793-3335-40be-a44e-7418ec508b3a",
   "metadata": {},
   "source": [
    "### Variance Inflation Factor"
   ]
  },
  {
   "cell_type": "code",
   "execution_count": 37,
   "id": "f1a861a2-6fdc-458a-b321-77375bc5a8b6",
   "metadata": {},
   "outputs": [],
   "source": [
    "from statsmodels.stats.outliers_influence import variance_inflation_factor\n",
    "vif = pd.DataFrame()\n",
    "vif[\"VIF Factor\"] = [variance_inflation_factor(x_train.values, i) for i in range(x_train.shape[1])]\n",
    "vif[\"features\"] = x_train.columns"
   ]
  },
  {
   "cell_type": "code",
   "execution_count": 38,
   "id": "48412d2b-b20d-4b58-9a18-e59228b538c3",
   "metadata": {},
   "outputs": [
    {
     "data": {
      "text/html": [
       "<div>\n",
       "<style scoped>\n",
       "    .dataframe tbody tr th:only-of-type {\n",
       "        vertical-align: middle;\n",
       "    }\n",
       "\n",
       "    .dataframe tbody tr th {\n",
       "        vertical-align: top;\n",
       "    }\n",
       "\n",
       "    .dataframe thead th {\n",
       "        text-align: right;\n",
       "    }\n",
       "</style>\n",
       "<table border=\"1\" class=\"dataframe\">\n",
       "  <thead>\n",
       "    <tr style=\"text-align: right;\">\n",
       "      <th></th>\n",
       "      <th>VIF Factor</th>\n",
       "      <th>features</th>\n",
       "    </tr>\n",
       "  </thead>\n",
       "  <tbody>\n",
       "    <tr>\n",
       "      <th>0</th>\n",
       "      <td>1.759289</td>\n",
       "      <td>CRIM</td>\n",
       "    </tr>\n",
       "    <tr>\n",
       "      <th>1</th>\n",
       "      <td>2.292413</td>\n",
       "      <td>ZN</td>\n",
       "    </tr>\n",
       "    <tr>\n",
       "      <th>2</th>\n",
       "      <td>4.120139</td>\n",
       "      <td>INDUS</td>\n",
       "    </tr>\n",
       "    <tr>\n",
       "      <th>3</th>\n",
       "      <td>4.640737</td>\n",
       "      <td>NOX</td>\n",
       "    </tr>\n",
       "    <tr>\n",
       "      <th>4</th>\n",
       "      <td>1.978386</td>\n",
       "      <td>RM</td>\n",
       "    </tr>\n",
       "    <tr>\n",
       "      <th>5</th>\n",
       "      <td>3.017392</td>\n",
       "      <td>AGE</td>\n",
       "    </tr>\n",
       "    <tr>\n",
       "      <th>6</th>\n",
       "      <td>3.857727</td>\n",
       "      <td>DIS</td>\n",
       "    </tr>\n",
       "    <tr>\n",
       "      <th>7</th>\n",
       "      <td>6.747978</td>\n",
       "      <td>RAD</td>\n",
       "    </tr>\n",
       "    <tr>\n",
       "      <th>8</th>\n",
       "      <td>8.437529</td>\n",
       "      <td>TAX</td>\n",
       "    </tr>\n",
       "    <tr>\n",
       "      <th>9</th>\n",
       "      <td>1.742165</td>\n",
       "      <td>PTRATIO</td>\n",
       "    </tr>\n",
       "    <tr>\n",
       "      <th>10</th>\n",
       "      <td>1.441408</td>\n",
       "      <td>B</td>\n",
       "    </tr>\n",
       "    <tr>\n",
       "      <th>11</th>\n",
       "      <td>3.056735</td>\n",
       "      <td>LSTAT</td>\n",
       "    </tr>\n",
       "    <tr>\n",
       "      <th>12</th>\n",
       "      <td>1.006159</td>\n",
       "      <td>CHAS_0.0</td>\n",
       "    </tr>\n",
       "    <tr>\n",
       "      <th>13</th>\n",
       "      <td>1.078198</td>\n",
       "      <td>CHAS_1.0</td>\n",
       "    </tr>\n",
       "  </tbody>\n",
       "</table>\n",
       "</div>"
      ],
      "text/plain": [
       "    VIF Factor  features\n",
       "0     1.759289      CRIM\n",
       "1     2.292413        ZN\n",
       "2     4.120139     INDUS\n",
       "3     4.640737       NOX\n",
       "4     1.978386        RM\n",
       "5     3.017392       AGE\n",
       "6     3.857727       DIS\n",
       "7     6.747978       RAD\n",
       "8     8.437529       TAX\n",
       "9     1.742165   PTRATIO\n",
       "10    1.441408         B\n",
       "11    3.056735     LSTAT\n",
       "12    1.006159  CHAS_0.0\n",
       "13    1.078198  CHAS_1.0"
      ]
     },
     "execution_count": 38,
     "metadata": {},
     "output_type": "execute_result"
    }
   ],
   "source": [
    "vif"
   ]
  }
 ],
 "metadata": {
  "kernelspec": {
   "display_name": "Python 3 (ipykernel)",
   "language": "python",
   "name": "python3"
  },
  "language_info": {
   "codemirror_mode": {
    "name": "ipython",
    "version": 3
   },
   "file_extension": ".py",
   "mimetype": "text/x-python",
   "name": "python",
   "nbconvert_exporter": "python",
   "pygments_lexer": "ipython3",
   "version": "3.9.12"
  }
 },
 "nbformat": 4,
 "nbformat_minor": 5
}
